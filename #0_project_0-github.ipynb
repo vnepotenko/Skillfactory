{
 "cells": [
  {
   "cell_type": "code",
   "execution_count": 20,
   "metadata": {},
   "outputs": [
    {
     "name": "stdout",
     "output_type": "stream",
     "text": [
      "Загадано число от 1 до 100\n",
      "Ваш алгоритм угадывает число в среднем за 9 попыток\n"
     ]
    },
    {
     "data": {
      "text/plain": [
       "9"
      ]
     },
     "execution_count": 20,
     "metadata": {},
     "output_type": "execute_result"
    }
   ],
   "source": [
    "import numpy as np\n",
    "\n",
    "count = 0                            # Счетчик попыток\n",
    "number = np.random.randint(1, 101)   # Загадали число\n",
    "print (\"Загадано число от 1 до 100\")\n",
    "\n",
    "\n",
    "def game_core(number):\n",
    "    '''\n",
    "    Функция принимает загаданное число и возвращает число попыток.\n",
    "    В зависимомсти от того, predict больше или меньше number,\n",
    "    увеличиваем, либо уменьшаем его на 5 единиц.\n",
    "    Счетчики итераций увеличения и уменьшения указывают на то,\n",
    "    что predict прошёл number, после прохождения нужно его откатить на 1.\n",
    "    '''\n",
    "    count = 1                            # Счетчик количества попыток\n",
    "    increases_count = 0                  # Счетчик итераций с увеличением\n",
    "    decreases_count = 0                  # Счетчик итераций с уменьшением\n",
    "    predict = np.random.randint(1, 101)  # Предполагаемое число\n",
    "\n",
    "    while number != predict:\n",
    "        count += 1\n",
    "        if number > predict:\n",
    "            if decreases_count == 0:\n",
    "                predict += 5\n",
    "                increases_count += 1\n",
    "            else:\n",
    "                predict += 1\n",
    "        elif number < predict:\n",
    "            if increases_count == 0:\n",
    "                predict -= 5\n",
    "                decreases_count += 1\n",
    "            else:\n",
    "                predict -= 1\n",
    "\n",
    "    return(count)  # Выход из цикла, если угадали\n",
    "\n",
    "\n",
    "def score_game(game_core):\n",
    "    # Запускаем игру 1000 раз, чтобы узнать, как быстро игра угадывает число\n",
    "    count_ls = []\n",
    "    np.random.seed(1)  # Фикс. RANDOM SEED, для воспроизводимости эксперимента\n",
    "    random_array = np.random.randint(1, 101, size=(1000))\n",
    "    \n",
    "    for number in random_array:\n",
    "        count_ls.append(game_core(number))\n",
    "    score = int(np.mean(count_ls))\n",
    "    print(f\"Ваш алгоритм угадывает число в среднем за {score} попыток\")\n",
    "    \n",
    "    return(score)\n",
    "\n",
    "\n",
    "score_game(game_core)"
   ]
  },
  {
   "cell_type": "code",
   "execution_count": null,
   "metadata": {},
   "outputs": [],
   "source": []
  }
 ],
 "metadata": {
  "kernelspec": {
   "display_name": "Python 3",
   "language": "python",
   "name": "python3"
  },
  "language_info": {
   "codemirror_mode": {
    "name": "ipython",
    "version": 3
   },
   "file_extension": ".py",
   "mimetype": "text/x-python",
   "name": "python",
   "nbconvert_exporter": "python",
   "pygments_lexer": "ipython3",
   "version": "3.8.5"
  }
 },
 "nbformat": 4,
 "nbformat_minor": 4
}
